{
 "cells": [
  {
   "cell_type": "code",
   "execution_count": null,
   "id": "4a79b09a",
   "metadata": {},
   "outputs": [],
   "source": []
  },
  {
   "cell_type": "markdown",
   "id": "7519d53c",
   "metadata": {},
   "source": [
    "<img src=\"https://raw.githubusercontent.com/Bioinformatica2020/Anexos/master/extraccion_de_lista.jpg\" width = 80%>"
   ]
  },
  {
   "cell_type": "code",
   "execution_count": null,
   "id": "522a1949",
   "metadata": {},
   "outputs": [],
   "source": [
    "lista = [1, 2, 3, 4, 5, 6, 7, 8, 9, 10]"
   ]
  },
  {
   "cell_type": "code",
   "execution_count": null,
   "id": "c0a18dbe",
   "metadata": {},
   "outputs": [],
   "source": [
    "lista[3:8]"
   ]
  },
  {
   "cell_type": "code",
   "execution_count": null,
   "id": "ed0d751a",
   "metadata": {},
   "outputs": [],
   "source": [
    "lista[3:8]"
   ]
  },
  {
   "cell_type": "code",
   "execution_count": null,
   "id": "b1bbe9ba",
   "metadata": {},
   "outputs": [],
   "source": []
  },
  {
   "cell_type": "code",
   "execution_count": null,
   "id": "868145ee",
   "metadata": {},
   "outputs": [],
   "source": [
    "prot = 'GLTSLDRYKGRCYHIEPVPGEADQYICYVAYPLDLFEEGSVTNMFTSIVGNVFGFKALRALRLEDLRIPP'"
   ]
  },
  {
   "cell_type": "code",
   "execution_count": null,
   "id": "60dc3108",
   "metadata": {},
   "outputs": [],
   "source": [
    "pat = 'IEPVPGEADQYICYVAYPLDLFE'"
   ]
  },
  {
   "cell_type": "code",
   "execution_count": null,
   "id": "ecc55c68",
   "metadata": {},
   "outputs": [],
   "source": [
    "prot"
   ]
  },
  {
   "cell_type": "code",
   "execution_count": null,
   "id": "9c4ce1e4",
   "metadata": {},
   "outputs": [],
   "source": [
    "pat"
   ]
  },
  {
   "cell_type": "code",
   "execution_count": null,
   "id": "7a84245e",
   "metadata": {},
   "outputs": [],
   "source": [
    "import re"
   ]
  },
  {
   "cell_type": "code",
   "execution_count": null,
   "id": "3f5a80f7",
   "metadata": {},
   "outputs": [],
   "source": [
    "[i for i in re.finditer(pat, prot)]"
   ]
  },
  {
   "cell_type": "code",
   "execution_count": null,
   "id": "1a0b015c",
   "metadata": {},
   "outputs": [],
   "source": [
    "[[i.start(), i.end()] for i in re.finditer(pat, prot)]"
   ]
  },
  {
   "cell_type": "code",
   "execution_count": null,
   "id": "67988c9c",
   "metadata": {},
   "outputs": [],
   "source": [
    "prot[14:37]"
   ]
  },
  {
   "cell_type": "code",
   "execution_count": null,
   "id": "68767064",
   "metadata": {},
   "outputs": [],
   "source": [
    "pat"
   ]
  },
  {
   "cell_type": "code",
   "execution_count": null,
   "id": "93cc36ee",
   "metadata": {},
   "outputs": [],
   "source": [
    "re.findall(pat, prot)"
   ]
  },
  {
   "cell_type": "code",
   "execution_count": null,
   "id": "1ad35559",
   "metadata": {},
   "outputs": [],
   "source": []
  },
  {
   "cell_type": "code",
   "execution_count": null,
   "id": "be3f8e8d",
   "metadata": {},
   "outputs": [],
   "source": [
    "lista"
   ]
  },
  {
   "cell_type": "code",
   "execution_count": null,
   "id": "e4168714",
   "metadata": {},
   "outputs": [],
   "source": [
    "lista[4:]"
   ]
  },
  {
   "cell_type": "code",
   "execution_count": null,
   "id": "4f6ba1b0",
   "metadata": {},
   "outputs": [],
   "source": [
    "lista[7:]"
   ]
  },
  {
   "cell_type": "code",
   "execution_count": null,
   "id": "14da173e",
   "metadata": {},
   "outputs": [],
   "source": []
  },
  {
   "cell_type": "code",
   "execution_count": null,
   "id": "e8b50c8f",
   "metadata": {},
   "outputs": [],
   "source": [
    "lista[:5]"
   ]
  },
  {
   "cell_type": "code",
   "execution_count": null,
   "id": "035bc367",
   "metadata": {},
   "outputs": [],
   "source": [
    "lista[:7]"
   ]
  },
  {
   "cell_type": "code",
   "execution_count": null,
   "id": "f72a3b15",
   "metadata": {},
   "outputs": [],
   "source": []
  },
  {
   "cell_type": "code",
   "execution_count": null,
   "id": "e028465e",
   "metadata": {},
   "outputs": [],
   "source": []
  },
  {
   "cell_type": "markdown",
   "id": "ca3a4a26",
   "metadata": {},
   "source": [
    "### Diccionarios"
   ]
  },
  {
   "cell_type": "code",
   "execution_count": null,
   "id": "0c8fc696",
   "metadata": {},
   "outputs": [],
   "source": [
    "d = {'clave1': [], 'clave2': (), 'clave3': ['atcgatctatatatagcatcg']}"
   ]
  },
  {
   "cell_type": "code",
   "execution_count": null,
   "id": "2f9b1a48",
   "metadata": {},
   "outputs": [],
   "source": [
    "d"
   ]
  },
  {
   "cell_type": "code",
   "execution_count": null,
   "id": "97667af0",
   "metadata": {},
   "outputs": [],
   "source": [
    "d['clave3']"
   ]
  },
  {
   "cell_type": "code",
   "execution_count": null,
   "id": "eecd15c6",
   "metadata": {},
   "outputs": [],
   "source": [
    "lista"
   ]
  },
  {
   "cell_type": "code",
   "execution_count": null,
   "id": "6a34187e",
   "metadata": {},
   "outputs": [],
   "source": [
    "# actualizar diccionario, solo para la clave 1\n",
    "d.update({'clave1': lista})"
   ]
  },
  {
   "cell_type": "code",
   "execution_count": null,
   "id": "7af75bea",
   "metadata": {},
   "outputs": [],
   "source": [
    "d"
   ]
  },
  {
   "cell_type": "code",
   "execution_count": null,
   "id": "724fb9cf",
   "metadata": {},
   "outputs": [],
   "source": [
    "# eliminar claves de un diccionario\n",
    "d.pop('clave1')"
   ]
  },
  {
   "cell_type": "code",
   "execution_count": null,
   "id": "d547839e",
   "metadata": {},
   "outputs": [],
   "source": [
    "d"
   ]
  },
  {
   "cell_type": "code",
   "execution_count": null,
   "id": "63656c4e",
   "metadata": {},
   "outputs": [],
   "source": []
  },
  {
   "cell_type": "code",
   "execution_count": null,
   "id": "0dc31fac",
   "metadata": {},
   "outputs": [],
   "source": []
  },
  {
   "cell_type": "code",
   "execution_count": null,
   "id": "71861513",
   "metadata": {},
   "outputs": [],
   "source": []
  },
  {
   "cell_type": "markdown",
   "id": "20883e84",
   "metadata": {},
   "source": [
    "# Programación estructurada\n",
    "\n",
    "## <font color = blue>Estructuras de control de flujo (condicionales)</font>\n",
    "- ### <font color = limegreen>if</font>, significa \"si\" (condición).\n",
    "- ### <font color = limegreen>elif</font>, es una segunda condición y se evalúa si `if` es `False`\n",
    "- ### <font color = limegreen>else</font>, significa \"si no\".\n",
    "### <font color = magenta>Los condicionales son las estructuras de control más importantes en toda la programación</font>\n",
    "<img src=\"https://raw.githubusercontent.com/Bioinformatica2020/Anexos/master/if_else.jpg\" width = 60%>\n",
    "\n",
    "<img src=\"https://raw.githubusercontent.com/Bioinformatica2020/Anexos/master/if_elif_else.jpg\" width = 40%>\n",
    "\n",
    "---\n",
    "Puedes ingresar a este sitio, hay varios ejemplos de condicionales  \n",
    "https://www.mclibre.org/consultar/python/lecciones/python-if-else.html\n",
    "\n",
    "---"
   ]
  },
  {
   "cell_type": "code",
   "execution_count": null,
   "id": "6132326c",
   "metadata": {},
   "outputs": [],
   "source": []
  },
  {
   "cell_type": "code",
   "execution_count": null,
   "id": "bf7f39f2",
   "metadata": {},
   "outputs": [],
   "source": [
    "int(input('Ingresa un número y da enter:'))"
   ]
  },
  {
   "cell_type": "code",
   "execution_count": null,
   "id": "40b52c5b",
   "metadata": {},
   "outputs": [],
   "source": []
  },
  {
   "cell_type": "code",
   "execution_count": null,
   "id": "875e5a29",
   "metadata": {},
   "outputs": [],
   "source": [
    "#\n",
    "numero = int(input('Ingresa un número y da enter:'))\n",
    "if numero > 0:\n",
    "    print('Tu número es: positivo')\n",
    "else:\n",
    "    print('Tu número es: negativo')"
   ]
  },
  {
   "cell_type": "code",
   "execution_count": null,
   "id": "be5c64f2",
   "metadata": {},
   "outputs": [],
   "source": []
  },
  {
   "cell_type": "markdown",
   "id": "163821e2",
   "metadata": {},
   "source": [
    "#### te das cuenta que si ingresas `0` lo registra como número negativo, cómo se resuelve el reconocimiento del `0`"
   ]
  },
  {
   "cell_type": "code",
   "execution_count": null,
   "id": "b81ed672",
   "metadata": {},
   "outputs": [],
   "source": []
  },
  {
   "cell_type": "code",
   "execution_count": null,
   "id": "393b05c8",
   "metadata": {},
   "outputs": [],
   "source": [
    "numero = int(input('Ingresa un número y da enter: '))\n",
    "if numero > 0:\n",
    "    print('Tu número es: positivo')\n",
    "elif numero == 0:\n",
    "    print('Tu número es: 0')\n",
    "else:\n",
    "    print('Tu número es: negativo')"
   ]
  },
  {
   "cell_type": "code",
   "execution_count": null,
   "id": "f1585a0c",
   "metadata": {},
   "outputs": [],
   "source": []
  },
  {
   "cell_type": "code",
   "execution_count": null,
   "id": "6e9110cc",
   "metadata": {},
   "outputs": [],
   "source": [
    "numero = input('Ingresa un número y da enter: ')\n",
    "try:\n",
    "    numero = int(numero)\n",
    "    if numero > 0:\n",
    "        print('Tu número es: positivo')\n",
    "    elif numero == 0:\n",
    "        print('Tu número es: 0')\n",
    "    else:\n",
    "        print('Tu número es: negativo')\n",
    "except ValueError:\n",
    "    try:\n",
    "        numero = float(numero)\n",
    "        if numero > 0:\n",
    "            print('Tu número es: positivo')\n",
    "        elif numero == 0:\n",
    "            print('Tu número es: 0')\n",
    "        else:\n",
    "            print('Tu número es: negativo')\n",
    "    except ValueError:\n",
    "        print(numero, 'No es numero')"
   ]
  },
  {
   "cell_type": "code",
   "execution_count": null,
   "id": "b22842b1",
   "metadata": {},
   "outputs": [],
   "source": [
    "finally"
   ]
  },
  {
   "cell_type": "code",
   "execution_count": null,
   "id": "39df9a8e",
   "metadata": {},
   "outputs": [],
   "source": []
  },
  {
   "cell_type": "markdown",
   "id": "aabe58b1",
   "metadata": {},
   "source": [
    "# <font color = blue>Estructuras de control iterativas</font>\n",
    "---\n",
    "# <font color = orange>En informática iteración significa que se van a usar bucles</font>\n",
    "# <font color = orange>Un bucle es una parte de código que se repite una y otra vez</font>\n",
    "---\n",
    "- ## <font color = red>for</font>\n",
    "<img src=\"https://raw.githubusercontent.com/Bioinformatica2020/Anexos/master/for_loop.jpg\" width = 80%> <br>\n",
    "\n",
    "### Iteración <img src=\"https://raw.githubusercontent.com/Bioinformatica2020/Anexos/master/ezgif.com-crop.gif\" width = 40%> <br>"
   ]
  },
  {
   "cell_type": "code",
   "execution_count": null,
   "id": "df494f15",
   "metadata": {},
   "outputs": [],
   "source": []
  },
  {
   "cell_type": "code",
   "execution_count": null,
   "id": "945d4803",
   "metadata": {},
   "outputs": [],
   "source": [
    "pat"
   ]
  },
  {
   "cell_type": "code",
   "execution_count": null,
   "id": "ab822a5e",
   "metadata": {
    "scrolled": true
   },
   "outputs": [],
   "source": [
    "for i in pat:\n",
    "    if i == 'V':\n",
    "        print(i)\n",
    "    else:\n",
    "        print('#', i)"
   ]
  },
  {
   "cell_type": "code",
   "execution_count": null,
   "id": "fb66707e",
   "metadata": {},
   "outputs": [],
   "source": []
  },
  {
   "cell_type": "markdown",
   "id": "c3c2b7fe",
   "metadata": {},
   "source": [
    "# ejercicio con lista de organismos"
   ]
  },
  {
   "cell_type": "code",
   "execution_count": null,
   "id": "15ff8a5e",
   "metadata": {},
   "outputs": [],
   "source": [
    "import subprocess"
   ]
  },
  {
   "cell_type": "code",
   "execution_count": null,
   "id": "48d72fcb",
   "metadata": {},
   "outputs": [],
   "source": [
    "subprocess.call('curl \"https://rest.kegg.jp/list/organism\" -o kegg_organism.txt')"
   ]
  },
  {
   "cell_type": "code",
   "execution_count": null,
   "id": "0433a9d0",
   "metadata": {},
   "outputs": [],
   "source": []
  },
  {
   "cell_type": "code",
   "execution_count": null,
   "id": "0672ac63",
   "metadata": {},
   "outputs": [],
   "source": [
    "org = []\n",
    "with open('kegg_organism.txt', 'r') as fq:\n",
    "    for fila in fq:\n",
    "        fila = fila.rstrip()\n",
    "        org.append(fila.split('\\t'))"
   ]
  },
  {
   "cell_type": "code",
   "execution_count": null,
   "id": "e4aa3a73",
   "metadata": {},
   "outputs": [],
   "source": [
    "len(org)"
   ]
  },
  {
   "cell_type": "code",
   "execution_count": null,
   "id": "35fec005",
   "metadata": {},
   "outputs": [],
   "source": [
    "v = []\n",
    "for i in org:\n",
    "    if 'Escherichia' in i[2]:\n",
    "        v.append(i)"
   ]
  },
  {
   "cell_type": "code",
   "execution_count": null,
   "id": "e90f0934",
   "metadata": {},
   "outputs": [],
   "source": [
    "len(v)"
   ]
  },
  {
   "cell_type": "code",
   "execution_count": null,
   "id": "b36949eb",
   "metadata": {},
   "outputs": [],
   "source": [
    "[i[2] for i in v]"
   ]
  },
  {
   "cell_type": "code",
   "execution_count": null,
   "id": "8c15900b",
   "metadata": {},
   "outputs": [],
   "source": []
  },
  {
   "cell_type": "code",
   "execution_count": null,
   "id": "b7c9400c",
   "metadata": {},
   "outputs": [],
   "source": []
  },
  {
   "cell_type": "code",
   "execution_count": null,
   "id": "eef4e9b6",
   "metadata": {},
   "outputs": [],
   "source": [
    "des = []\n",
    "for i in org:\n",
    "    des.append(i[3])"
   ]
  },
  {
   "cell_type": "code",
   "execution_count": null,
   "id": "0e578b1b",
   "metadata": {},
   "outputs": [],
   "source": [
    "list(set(des))"
   ]
  },
  {
   "cell_type": "code",
   "execution_count": null,
   "id": "e0f1d1fc",
   "metadata": {},
   "outputs": [],
   "source": []
  },
  {
   "cell_type": "code",
   "execution_count": null,
   "id": "1e437f76",
   "metadata": {},
   "outputs": [],
   "source": []
  }
 ],
 "metadata": {
  "kernelspec": {
   "display_name": "Python 3",
   "language": "python",
   "name": "python3"
  },
  "language_info": {
   "codemirror_mode": {
    "name": "ipython",
    "version": 3
   },
   "file_extension": ".py",
   "mimetype": "text/x-python",
   "name": "python",
   "nbconvert_exporter": "python",
   "pygments_lexer": "ipython3",
   "version": "3.6.7"
  }
 },
 "nbformat": 4,
 "nbformat_minor": 5
}
