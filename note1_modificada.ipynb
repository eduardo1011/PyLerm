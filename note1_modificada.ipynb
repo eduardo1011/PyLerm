{
 "cells": [
  {
   "cell_type": "code",
   "execution_count": null,
   "id": "c4250f10",
   "metadata": {},
   "outputs": [],
   "source": []
  },
  {
   "cell_type": "code",
   "execution_count": 8,
   "id": "97e36afd",
   "metadata": {},
   "outputs": [],
   "source": [
    "# el numeral hace referencia a comentarios"
   ]
  },
  {
   "cell_type": "code",
   "execution_count": 9,
   "id": "269f69e7",
   "metadata": {},
   "outputs": [
    {
     "name": "stdout",
     "output_type": "stream",
     "text": [
      "Hola mundo\n"
     ]
    }
   ],
   "source": [
    "print('Hola mundo')"
   ]
  },
  {
   "cell_type": "code",
   "execution_count": 10,
   "id": "769c259c",
   "metadata": {},
   "outputs": [
    {
     "data": {
      "text/plain": [
       "'Hola mundo'"
      ]
     },
     "execution_count": 10,
     "metadata": {},
     "output_type": "execute_result"
    }
   ],
   "source": [
    "(\"Hola mundo\")"
   ]
  },
  {
   "cell_type": "code",
   "execution_count": 11,
   "id": "b811f795",
   "metadata": {},
   "outputs": [
    {
     "data": {
      "text/plain": [
       "'Hola mundo mi primerla l[inea] en python'"
      ]
     },
     "execution_count": 11,
     "metadata": {},
     "output_type": "execute_result"
    }
   ],
   "source": [
    "(\"Hola mundo mi primerla l[inea] en python\")"
   ]
  },
  {
   "cell_type": "code",
   "execution_count": 12,
   "id": "438db6ab",
   "metadata": {},
   "outputs": [
    {
     "data": {
      "text/plain": [
       "'Hola mundo mi primerla l[inea] en python'"
      ]
     },
     "execution_count": 12,
     "metadata": {},
     "output_type": "execute_result"
    }
   ],
   "source": [
    "(\"Hola mundo mi primerla l[inea] en python\")"
   ]
  },
  {
   "cell_type": "code",
   "execution_count": null,
   "id": "73618bf4",
   "metadata": {},
   "outputs": [],
   "source": []
  },
  {
   "cell_type": "code",
   "execution_count": null,
   "id": "d405986d",
   "metadata": {},
   "outputs": [],
   "source": []
  },
  {
   "cell_type": "markdown",
   "id": "a7074ae5",
   "metadata": {},
   "source": [
    "# 1. Títulos, Texto, Comentarios"
   ]
  },
  {
   "cell_type": "markdown",
   "id": "5cf7ff03",
   "metadata": {},
   "source": [
    "# Título\n",
    "## Título\n",
    "### Título\n",
    "#### Título\n",
    "\n",
    "También podemos escribir texto, no importa la extensión."
   ]
  },
  {
   "cell_type": "markdown",
   "id": "973c97a8",
   "metadata": {},
   "source": [
    "#### Es recomendable agregar comentarios cuando se escribe código, pues ayuda a puntualizar acciones específicas, o a tener un control sobre los que está haciendo cada paso del código."
   ]
  },
  {
   "cell_type": "markdown",
   "id": "0b45af05",
   "metadata": {},
   "source": [
    "## <font color = green>Pueden usar una de estas formas:</font>"
   ]
  },
  {
   "cell_type": "markdown",
   "id": "73fffdf7",
   "metadata": {},
   "source": [
    "* Para descripción de código o funciones usar triple comilla doble/simple `\"\"\"` o `'''` antes y después de la descripción, en filas diferentes.\n",
    "* Para comentarios usar el símbolo de numeral #"
   ]
  },
  {
   "cell_type": "code",
   "execution_count": 7,
   "id": "d0f3d755",
   "metadata": {},
   "outputs": [
    {
     "data": {
      "text/plain": [
       "'\\nDocumentación: en esta parte se documenta la funcionalidad del módulo,\\no del comando creado, o del pipeline desarrollado.\\n'"
      ]
     },
     "execution_count": 7,
     "metadata": {},
     "output_type": "execute_result"
    }
   ],
   "source": [
    "\n",
    "\"\"\"\n",
    "Documentación: en esta parte se documenta la funcionalidad del módulo,\n",
    "o del comando creado, o del pipeline desarrollado.\n",
    "\"\"\"\n",
    "# aquí puedo poner un comentario"
   ]
  },
  {
   "cell_type": "code",
   "execution_count": null,
   "id": "b4691684",
   "metadata": {},
   "outputs": [],
   "source": []
  },
  {
   "cell_type": "markdown",
   "id": "26d7359f",
   "metadata": {},
   "source": [
    "# 2. Variables"
   ]
  },
  {
   "cell_type": "markdown",
   "id": "d408c326",
   "metadata": {},
   "source": [
    "### Una variable es una especie de caja en la que puedes guardar un objeto.\n",
    "### Esta caja/variable ocupa un espacio en la memoria de dorma temporal.\n",
    "### Qué puedes guardar en una variable\n",
    "\n",
    "|Objeto|\n",
    "|---|\n",
    "|Números (`float` = de punto flotante, `int` = enteros)|\n",
    "|Cadenas de caracteres `str = string`|\n",
    "|Arreglos|\n",
    "|Listas|\n",
    "|Diccionarios `dict`|\n",
    "|Tuplas|\n",
    "|Data Frame|\n",
    "|Conjuntos `set`|"
   ]
  },
  {
   "cell_type": "markdown",
   "id": "935e32fb",
   "metadata": {},
   "source": [
    "### <font color= red>3. Definir variables</font>"
   ]
  },
  {
   "cell_type": "code",
   "execution_count": 10,
   "id": "4b349c6e",
   "metadata": {},
   "outputs": [],
   "source": [
    "# puedes definir una cadena de caracteres\n",
    "var = \"Secuencia1\" "
   ]
  },
  {
   "cell_type": "code",
   "execution_count": 15,
   "id": "a82a0d78",
   "metadata": {},
   "outputs": [
    {
     "data": {
      "text/plain": [
       "'Secuencia1'"
      ]
     },
     "execution_count": 15,
     "metadata": {},
     "output_type": "execute_result"
    }
   ],
   "source": [
    "var"
   ]
  },
  {
   "cell_type": "code",
   "execution_count": 62,
   "id": "0d59aabb",
   "metadata": {},
   "outputs": [],
   "source": [
    "# un número entero\n",
    "x = 10"
   ]
  },
  {
   "cell_type": "code",
   "execution_count": 17,
   "id": "0abc1d61",
   "metadata": {},
   "outputs": [
    {
     "data": {
      "text/plain": [
       "10"
      ]
     },
     "execution_count": 17,
     "metadata": {},
     "output_type": "execute_result"
    }
   ],
   "source": [
    "x"
   ]
  },
  {
   "cell_type": "code",
   "execution_count": 18,
   "id": "611a20fe",
   "metadata": {},
   "outputs": [],
   "source": [
    "# un número de punto flotante (con decimales)\n",
    "y = 25.453454564"
   ]
  },
  {
   "cell_type": "code",
   "execution_count": 19,
   "id": "749fdf55",
   "metadata": {},
   "outputs": [
    {
     "data": {
      "text/plain": [
       "25.453454564"
      ]
     },
     "execution_count": 19,
     "metadata": {},
     "output_type": "execute_result"
    }
   ],
   "source": [
    "y"
   ]
  },
  {
   "cell_type": "code",
   "execution_count": 20,
   "id": "353a09a8",
   "metadata": {},
   "outputs": [
    {
     "data": {
      "text/plain": [
       "('Secuencia1', 10, 25.453454564)"
      ]
     },
     "execution_count": 20,
     "metadata": {},
     "output_type": "execute_result"
    }
   ],
   "source": [
    "var, x, y"
   ]
  },
  {
   "cell_type": "code",
   "execution_count": 21,
   "id": "7fcfed94",
   "metadata": {},
   "outputs": [],
   "source": [
    "z = x + y"
   ]
  },
  {
   "cell_type": "code",
   "execution_count": 22,
   "id": "ceca7972",
   "metadata": {},
   "outputs": [
    {
     "data": {
      "text/plain": [
       "35.453454564"
      ]
     },
     "execution_count": 22,
     "metadata": {},
     "output_type": "execute_result"
    }
   ],
   "source": [
    "z"
   ]
  },
  {
   "cell_type": "code",
   "execution_count": 32,
   "id": "04da78b1",
   "metadata": {},
   "outputs": [
    {
     "data": {
      "text/plain": [
       "'Secuencia1Secuencia1Secuencia1Secuencia1Secuencia1Secuencia1Secuencia1Secuencia1Secuencia1Secuencia1'"
      ]
     },
     "execution_count": 32,
     "metadata": {},
     "output_type": "execute_result"
    }
   ],
   "source": [
    "var * x"
   ]
  },
  {
   "cell_type": "code",
   "execution_count": 33,
   "id": "3fba9f8e",
   "metadata": {},
   "outputs": [
    {
     "ename": "TypeError",
     "evalue": "can't multiply sequence by non-int of type 'float'",
     "output_type": "error",
     "traceback": [
      "\u001b[1;31m---------------------------------------------------------------------------\u001b[0m",
      "\u001b[1;31mTypeError\u001b[0m                                 Traceback (most recent call last)",
      "\u001b[1;32m<ipython-input-33-256063b153f8>\u001b[0m in \u001b[0;36m<module>\u001b[1;34m\u001b[0m\n\u001b[1;32m----> 1\u001b[1;33m \u001b[0mvar\u001b[0m \u001b[1;33m*\u001b[0m \u001b[0my\u001b[0m\u001b[1;33m\u001b[0m\u001b[1;33m\u001b[0m\u001b[0m\n\u001b[0m",
      "\u001b[1;31mTypeError\u001b[0m: can't multiply sequence by non-int of type 'float'"
     ]
    }
   ],
   "source": [
    "var * y"
   ]
  },
  {
   "cell_type": "code",
   "execution_count": 34,
   "id": "7f54fd14",
   "metadata": {},
   "outputs": [
    {
     "data": {
      "text/plain": [
       "(10, 25.453454564, 'Secuencia1')"
      ]
     },
     "execution_count": 34,
     "metadata": {},
     "output_type": "execute_result"
    }
   ],
   "source": [
    "x, y, var"
   ]
  },
  {
   "cell_type": "code",
   "execution_count": 35,
   "id": "f565a06d",
   "metadata": {},
   "outputs": [
    {
     "data": {
      "text/plain": [
       "(int, float, str)"
      ]
     },
     "execution_count": 35,
     "metadata": {},
     "output_type": "execute_result"
    }
   ],
   "source": [
    "# la función type permite saber el tipo de objeto que \n",
    "# guarda la variable\n",
    "type(x), type(y), type(var)"
   ]
  },
  {
   "cell_type": "code",
   "execution_count": 36,
   "id": "d289362f",
   "metadata": {},
   "outputs": [
    {
     "data": {
      "text/plain": [
       "'Secuencia1'"
      ]
     },
     "execution_count": 36,
     "metadata": {},
     "output_type": "execute_result"
    }
   ],
   "source": [
    "var"
   ]
  },
  {
   "cell_type": "code",
   "execution_count": null,
   "id": "4e4b6e3b",
   "metadata": {},
   "outputs": [],
   "source": []
  },
  {
   "cell_type": "code",
   "execution_count": 44,
   "id": "fb9d5c30",
   "metadata": {},
   "outputs": [
    {
     "data": {
      "text/plain": [
       "(10, '10')"
      ]
     },
     "execution_count": 44,
     "metadata": {},
     "output_type": "execute_result"
    }
   ],
   "source": [
    "# convertir un número en string, o cadena de caracteres\n",
    "# se hace usando la función str\n",
    "x, str(x)"
   ]
  },
  {
   "cell_type": "code",
   "execution_count": 43,
   "id": "bd804241",
   "metadata": {},
   "outputs": [
    {
     "data": {
      "text/plain": [
       "'1010'"
      ]
     },
     "execution_count": 43,
     "metadata": {},
     "output_type": "execute_result"
    }
   ],
   "source": [
    "str(x) + str(x)"
   ]
  },
  {
   "cell_type": "code",
   "execution_count": 38,
   "id": "bef3161a",
   "metadata": {},
   "outputs": [
    {
     "data": {
      "text/plain": [
       "'Secuencia110'"
      ]
     },
     "execution_count": 38,
     "metadata": {},
     "output_type": "execute_result"
    }
   ],
   "source": [
    "var + str(x)"
   ]
  },
  {
   "cell_type": "code",
   "execution_count": 45,
   "id": "f20e8692",
   "metadata": {},
   "outputs": [],
   "source": [
    "t = '100'"
   ]
  },
  {
   "cell_type": "code",
   "execution_count": 46,
   "id": "89c56809",
   "metadata": {},
   "outputs": [
    {
     "data": {
      "text/plain": [
       "'100'"
      ]
     },
     "execution_count": 46,
     "metadata": {},
     "output_type": "execute_result"
    }
   ],
   "source": [
    "t"
   ]
  },
  {
   "cell_type": "code",
   "execution_count": 48,
   "id": "c2c93e5b",
   "metadata": {},
   "outputs": [
    {
     "ename": "TypeError",
     "evalue": "must be str, not int",
     "output_type": "error",
     "traceback": [
      "\u001b[1;31m---------------------------------------------------------------------------\u001b[0m",
      "\u001b[1;31mTypeError\u001b[0m                                 Traceback (most recent call last)",
      "\u001b[1;32m<ipython-input-48-299edfd1e5ad>\u001b[0m in \u001b[0;36m<module>\u001b[1;34m\u001b[0m\n\u001b[1;32m----> 1\u001b[1;33m \u001b[0mt\u001b[0m \u001b[1;33m+\u001b[0m \u001b[0mx\u001b[0m\u001b[1;33m\u001b[0m\u001b[1;33m\u001b[0m\u001b[0m\n\u001b[0m",
      "\u001b[1;31mTypeError\u001b[0m: must be str, not int"
     ]
    }
   ],
   "source": [
    "t + x"
   ]
  },
  {
   "cell_type": "code",
   "execution_count": 49,
   "id": "ea4318ac",
   "metadata": {},
   "outputs": [
    {
     "data": {
      "text/plain": [
       "110"
      ]
     },
     "execution_count": 49,
     "metadata": {},
     "output_type": "execute_result"
    }
   ],
   "source": [
    "int(t) + x"
   ]
  },
  {
   "cell_type": "markdown",
   "id": "4c9ed5ef",
   "metadata": {},
   "source": [
    "### 4. Borrar variables"
   ]
  },
  {
   "cell_type": "code",
   "execution_count": 51,
   "id": "0610a41c",
   "metadata": {},
   "outputs": [],
   "source": [
    "x = ''"
   ]
  },
  {
   "cell_type": "code",
   "execution_count": 52,
   "id": "5ff08b6c",
   "metadata": {},
   "outputs": [
    {
     "data": {
      "text/plain": [
       "''"
      ]
     },
     "execution_count": 52,
     "metadata": {},
     "output_type": "execute_result"
    }
   ],
   "source": [
    "x"
   ]
  },
  {
   "cell_type": "code",
   "execution_count": 53,
   "id": "0700c21a",
   "metadata": {},
   "outputs": [
    {
     "data": {
      "text/plain": [
       "str"
      ]
     },
     "execution_count": 53,
     "metadata": {},
     "output_type": "execute_result"
    }
   ],
   "source": [
    "type(x)"
   ]
  },
  {
   "cell_type": "code",
   "execution_count": 61,
   "id": "9c2b938b",
   "metadata": {},
   "outputs": [],
   "source": [
    "x1 = 45"
   ]
  },
  {
   "cell_type": "code",
   "execution_count": 63,
   "id": "41550cd1",
   "metadata": {},
   "outputs": [
    {
     "data": {
      "text/plain": [
       "10"
      ]
     },
     "execution_count": 63,
     "metadata": {},
     "output_type": "execute_result"
    }
   ],
   "source": [
    "x"
   ]
  },
  {
   "cell_type": "code",
   "execution_count": 64,
   "id": "9557bdee",
   "metadata": {},
   "outputs": [
    {
     "data": {
      "text/plain": [
       "70.453454564"
      ]
     },
     "execution_count": 64,
     "metadata": {},
     "output_type": "execute_result"
    }
   ],
   "source": [
    "x1 + y"
   ]
  },
  {
   "cell_type": "code",
   "execution_count": 65,
   "id": "f4b1fedb",
   "metadata": {},
   "outputs": [
    {
     "data": {
      "text/plain": [
       "45"
      ]
     },
     "execution_count": 65,
     "metadata": {},
     "output_type": "execute_result"
    }
   ],
   "source": [
    "x1"
   ]
  },
  {
   "cell_type": "code",
   "execution_count": null,
   "id": "92018892",
   "metadata": {},
   "outputs": [],
   "source": []
  },
  {
   "cell_type": "code",
   "execution_count": null,
   "id": "8c390d05",
   "metadata": {},
   "outputs": [],
   "source": [
    "str, type, int, del"
   ]
  },
  {
   "cell_type": "code",
   "execution_count": 66,
   "id": "c672a3a4",
   "metadata": {},
   "outputs": [
    {
     "data": {
      "text/plain": [
       "int"
      ]
     },
     "execution_count": 66,
     "metadata": {},
     "output_type": "execute_result"
    }
   ],
   "source": [
    "type(x)"
   ]
  },
  {
   "cell_type": "code",
   "execution_count": 67,
   "id": "f5fdeef9",
   "metadata": {},
   "outputs": [],
   "source": [
    "type = '12345'"
   ]
  },
  {
   "cell_type": "code",
   "execution_count": 69,
   "id": "24e4691f",
   "metadata": {},
   "outputs": [
    {
     "data": {
      "text/plain": [
       "'12345'"
      ]
     },
     "execution_count": 69,
     "metadata": {},
     "output_type": "execute_result"
    }
   ],
   "source": [
    "type"
   ]
  },
  {
   "cell_type": "code",
   "execution_count": null,
   "id": "91d6fe73",
   "metadata": {},
   "outputs": [],
   "source": [
    "tipo, typ, types, typpe, tyype, type"
   ]
  },
  {
   "cell_type": "code",
   "execution_count": 72,
   "id": "b6c19f26",
   "metadata": {},
   "outputs": [
    {
     "data": {
      "text/plain": [
       "int"
      ]
     },
     "execution_count": 72,
     "metadata": {},
     "output_type": "execute_result"
    }
   ],
   "source": [
    "type(x)"
   ]
  },
  {
   "cell_type": "code",
   "execution_count": null,
   "id": "61a633db",
   "metadata": {},
   "outputs": [],
   "source": []
  },
  {
   "cell_type": "code",
   "execution_count": null,
   "id": "95208abd",
   "metadata": {},
   "outputs": [],
   "source": []
  },
  {
   "cell_type": "code",
   "execution_count": null,
   "id": "dba355b2",
   "metadata": {},
   "outputs": [],
   "source": []
  },
  {
   "cell_type": "markdown",
   "id": "9600216c",
   "metadata": {},
   "source": [
    "## Funciones integradas\n",
    "\n",
    "|Función|Descripción|\n",
    "|---|---|\n",
    "|`set()`|Devuelve un conjunto|\n",
    "|`dict()`|Devuelve un diccionario|\n",
    "|`help()`|Da información sobre módulos|\n",
    "|`min()`|Devuelve el valor mínimo de una lista, arreglo o Dataframe|\n",
    "|`dir()`|Devuelve las variables definidas|\n",
    "|`enumerate()`|Enumera una lista empezando por cero|\n",
    "|`input()`|Función interactiva para ingresar valores|\n",
    "|`int()`|Devuelve núemros enteros|\n",
    "|`str()`|Devuelve un string o cadena de caracteres|\n",
    "|`sum()`|Suma los valores de una lista o arreglo|\n",
    "|`pow()`|Devuelve un valor elevado a la potencia X|\n",
    "|`float()`|Devuelve un número de punto flotante|\n",
    "|`print()`|Imprimir una variable|\n",
    "|`tuple()`|Devuelve una tupla (una lista inmutable)|\n",
    "|`len()`|Devuelve la longitud de un objeto|\n",
    "|`type()`|Devuelve el tipo del objeto|\n",
    "|`list()`|Devuelve una lista|\n",
    "|`range()`|Devuelve un rango de números|\n",
    "|`zip()`|Vuelve iterables dos elementos iterables|\n",
    "|`reversed()`|Devuelve el reverso de una lista|\n",
    "|`max()`|Devuelve el valor máximo de una lista, arreglo o Dataframe|\n",
    "|`round()`|Redondea un número de punto flotante|"
   ]
  },
  {
   "cell_type": "markdown",
   "id": "a03365dc",
   "metadata": {},
   "source": [
    "#### Al definir variables tratar de no usar algún nombre de las funciones integradas, porque si después se desea usar la función original esto genera un error porque la función ya no existe"
   ]
  },
  {
   "cell_type": "code",
   "execution_count": null,
   "id": "4ddde166",
   "metadata": {},
   "outputs": [],
   "source": []
  },
  {
   "cell_type": "markdown",
   "id": "1c583d44",
   "metadata": {},
   "source": [
    "# <font color = red>Ejercicio:</font>\n",
    "* ### 1. En seguida se definen algunas variables con varios objetos.\n",
    "* ### 2. Usando las funciones `print()` y `type()`, imprime e identifica qué tipo de objeto contienen las variables, la respuesta escríbela como un comentario \n",
    "* ### 3. Cuál es la longitud de la secuencia de nucleótidos en la variable5\n",
    "* ### 4. Cúal es el resultado de sumar la variable6 con la variable11\n",
    "* ### 5. A qué organismo lleva el enlace de lavariable10, cuántos aminoácidos tiene la proteína que muestra y cuántos nucleótidos. "
   ]
  },
  {
   "cell_type": "code",
   "execution_count": 78,
   "id": "dba87c99",
   "metadata": {},
   "outputs": [],
   "source": [
    "variable1 = 3.141592653589793\n",
    "variable2 = 100\n",
    "variable3 = {'peptide1':'MTTNEEFIRTQIF', 'peptide2':'GTVFEITN', 'peptide3':'RYNDLNPVG'}\n",
    "variable4 = '100.01'\n",
    "variable5 = 'atgaccactaacgaggaattcattaggacacagatattcggtacagttttcgagatcacaaatagatacaatgatttaaaccccgt'\n",
    "variable6 = [1.1, 2.1, 3.0, 4.0, 5.2, 6, 2, 6.5, 10, 3]\n",
    "variable7 = sum(variable6)\n",
    "variable8 = set(variable5)\n",
    "variable9 = int(pow(5.2, 4) - 0.1616000000001)\n",
    "variable10 = 'https://www.genome.jp/dbget-bin/www_bget?sce:YLR113W'\n",
    "variable11 = (1.1,2.1,3.0,4.0,5.2,6)"
   ]
  },
  {
   "cell_type": "code",
   "execution_count": 79,
   "id": "75c5513e",
   "metadata": {},
   "outputs": [
    {
     "name": "stdout",
     "output_type": "stream",
     "text": [
      "<class 'float'>\n"
     ]
    }
   ],
   "source": [
    "# la variable: variable1 es un objeto float\n",
    "print(type(variable1))"
   ]
  },
  {
   "cell_type": "code",
   "execution_count": 86,
   "id": "31533f53",
   "metadata": {},
   "outputs": [
    {
     "data": {
      "text/plain": [
       "3.141592653589793"
      ]
     },
     "execution_count": 86,
     "metadata": {},
     "output_type": "execute_result"
    }
   ],
   "source": [
    "variable1"
   ]
  },
  {
   "cell_type": "code",
   "execution_count": 81,
   "id": "57fcbb7f",
   "metadata": {},
   "outputs": [
    {
     "name": "stdout",
     "output_type": "stream",
     "text": [
      "<class 'int'>\n"
     ]
    }
   ],
   "source": [
    "# la variable: variable2 es un objeto int\n",
    "print(type(variable2))"
   ]
  },
  {
   "cell_type": "code",
   "execution_count": 85,
   "id": "9a3f7f9c",
   "metadata": {},
   "outputs": [
    {
     "data": {
      "text/plain": [
       "100"
      ]
     },
     "execution_count": 85,
     "metadata": {},
     "output_type": "execute_result"
    }
   ],
   "source": [
    "variable2"
   ]
  },
  {
   "cell_type": "code",
   "execution_count": 83,
   "id": "1d10b388",
   "metadata": {},
   "outputs": [
    {
     "name": "stdout",
     "output_type": "stream",
     "text": [
      "<class 'dict'>\n"
     ]
    }
   ],
   "source": [
    "# la variable: variable3 es un objeto dict\n",
    "print(type(variable3))"
   ]
  },
  {
   "cell_type": "code",
   "execution_count": 84,
   "id": "418a36b4",
   "metadata": {},
   "outputs": [
    {
     "data": {
      "text/plain": [
       "{'peptide1': 'MTTNEEFIRTQIF', 'peptide2': 'GTVFEITN', 'peptide3': 'RYNDLNPVG'}"
      ]
     },
     "execution_count": 84,
     "metadata": {},
     "output_type": "execute_result"
    }
   ],
   "source": [
    "variable3"
   ]
  },
  {
   "cell_type": "code",
   "execution_count": null,
   "id": "42b0b91d",
   "metadata": {},
   "outputs": [],
   "source": []
  },
  {
   "cell_type": "code",
   "execution_count": 87,
   "id": "5094a67e",
   "metadata": {},
   "outputs": [
    {
     "name": "stdout",
     "output_type": "stream",
     "text": [
      "<class 'str'>\n"
     ]
    }
   ],
   "source": [
    "# la variable: variable3 es un objeto dict\n",
    "print(type(variable10))"
   ]
  },
  {
   "cell_type": "code",
   "execution_count": 90,
   "id": "e0f79429",
   "metadata": {},
   "outputs": [
    {
     "name": "stdout",
     "output_type": "stream",
     "text": [
      "https://www.genome.jp/dbget-bin/www_bget?sce:YLR113W\n"
     ]
    }
   ],
   "source": [
    "# la variable: variable10 es un objeto dict\n",
    "S. cerevisiae, NT seq = 1308 nt, AA seq = 435 aa\n",
    "print(variable10)"
   ]
  },
  {
   "cell_type": "code",
   "execution_count": 91,
   "id": "c13a0ac5",
   "metadata": {},
   "outputs": [
    {
     "data": {
      "text/plain": [
       "'https://www.genome.jp/dbget-bin/www_bget?sce:YLR113W'"
      ]
     },
     "execution_count": 91,
     "metadata": {},
     "output_type": "execute_result"
    }
   ],
   "source": [
    "variable10"
   ]
  },
  {
   "cell_type": "code",
   "execution_count": 92,
   "id": "7b8a42c8",
   "metadata": {},
   "outputs": [
    {
     "data": {
      "text/plain": [
       "86"
      ]
     },
     "execution_count": 92,
     "metadata": {},
     "output_type": "execute_result"
    }
   ],
   "source": [
    "len(variable5)"
   ]
  },
  {
   "cell_type": "code",
   "execution_count": 93,
   "id": "28c67be5",
   "metadata": {},
   "outputs": [
    {
     "data": {
      "text/plain": [
       "'atgaccactaacgaggaattcattaggacacagatattcggtacagttttcgagatcacaaatagatacaatgatttaaaccccgt'"
      ]
     },
     "execution_count": 93,
     "metadata": {},
     "output_type": "execute_result"
    }
   ],
   "source": [
    "variable5"
   ]
  },
  {
   "cell_type": "code",
   "execution_count": 99,
   "id": "115ed09b",
   "metadata": {},
   "outputs": [],
   "source": [
    "r = (variable5.count('c') + variable5.count('g')) / len(variable5)"
   ]
  },
  {
   "cell_type": "code",
   "execution_count": 100,
   "id": "fd9f06e7",
   "metadata": {},
   "outputs": [
    {
     "data": {
      "text/plain": [
       "0.37209302325581395"
      ]
     },
     "execution_count": 100,
     "metadata": {},
     "output_type": "execute_result"
    }
   ],
   "source": [
    "r"
   ]
  },
  {
   "cell_type": "code",
   "execution_count": 101,
   "id": "ff34ae6f",
   "metadata": {},
   "outputs": [
    {
     "data": {
      "text/plain": [
       "37.2093023255814"
      ]
     },
     "execution_count": 101,
     "metadata": {},
     "output_type": "execute_result"
    }
   ],
   "source": [
    "r * 100"
   ]
  },
  {
   "cell_type": "code",
   "execution_count": null,
   "id": "839a0918",
   "metadata": {},
   "outputs": [],
   "source": []
  },
  {
   "cell_type": "code",
   "execution_count": 103,
   "id": "73b10db0",
   "metadata": {},
   "outputs": [
    {
     "data": {
      "text/plain": [
       "'atgaccactaacgaggaattcattaggacacagatattcggtacagttttcgagatcacaaatagatacaatgatttaaaccccgt'"
      ]
     },
     "execution_count": 103,
     "metadata": {},
     "output_type": "execute_result"
    }
   ],
   "source": [
    "variable5"
   ]
  },
  {
   "cell_type": "code",
   "execution_count": 104,
   "id": "3de88fca",
   "metadata": {},
   "outputs": [
    {
     "data": {
      "text/plain": [
       "{'a', 'c', 'g', 't'}"
      ]
     },
     "execution_count": 104,
     "metadata": {},
     "output_type": "execute_result"
    }
   ],
   "source": [
    "variable8"
   ]
  },
  {
   "cell_type": "code",
   "execution_count": 107,
   "id": "1dea5c00",
   "metadata": {},
   "outputs": [
    {
     "data": {
      "text/plain": [
       "list"
      ]
     },
     "execution_count": 107,
     "metadata": {},
     "output_type": "execute_result"
    }
   ],
   "source": [
    "type(variable6)"
   ]
  },
  {
   "cell_type": "code",
   "execution_count": 108,
   "id": "09b76500",
   "metadata": {},
   "outputs": [
    {
     "data": {
      "text/plain": [
       "[1.1, 2.1, 3.0, 4.0, 5.2, 6, 2, 6.5, 10, 3]"
      ]
     },
     "execution_count": 108,
     "metadata": {},
     "output_type": "execute_result"
    }
   ],
   "source": [
    "variable6"
   ]
  },
  {
   "cell_type": "code",
   "execution_count": 112,
   "id": "8fef006a",
   "metadata": {},
   "outputs": [
    {
     "data": {
      "text/plain": [
       "42.9"
      ]
     },
     "execution_count": 112,
     "metadata": {},
     "output_type": "execute_result"
    }
   ],
   "source": [
    "sum(variable6)"
   ]
  },
  {
   "cell_type": "code",
   "execution_count": 113,
   "id": "df2632d1",
   "metadata": {},
   "outputs": [
    {
     "name": "stdout",
     "output_type": "stream",
     "text": [
      "42.9\n"
     ]
    }
   ],
   "source": [
    "n = 0\n",
    "for i in variable6:\n",
    "    n += i\n",
    "print(n)"
   ]
  },
  {
   "cell_type": "code",
   "execution_count": 109,
   "id": "9d9349df",
   "metadata": {},
   "outputs": [
    {
     "data": {
      "text/plain": [
       "42.9"
      ]
     },
     "execution_count": 109,
     "metadata": {},
     "output_type": "execute_result"
    }
   ],
   "source": [
    "variable7"
   ]
  },
  {
   "cell_type": "code",
   "execution_count": 111,
   "id": "4c2a42f9",
   "metadata": {},
   "outputs": [
    {
     "data": {
      "text/plain": [
       "tuple"
      ]
     },
     "execution_count": 111,
     "metadata": {},
     "output_type": "execute_result"
    }
   ],
   "source": [
    "type(variable11)"
   ]
  },
  {
   "cell_type": "code",
   "execution_count": null,
   "id": "e9df019c",
   "metadata": {},
   "outputs": [],
   "source": []
  },
  {
   "cell_type": "code",
   "execution_count": 115,
   "id": "43c2ad80",
   "metadata": {},
   "outputs": [
    {
     "data": {
      "text/plain": [
       "[1.1, 2.1, 3.0, 4.0, 5.2, 6, 2, 6.5, 10, 3]"
      ]
     },
     "execution_count": 115,
     "metadata": {},
     "output_type": "execute_result"
    }
   ],
   "source": [
    "# lista: son estructuras dinámicas\n",
    "variable6"
   ]
  },
  {
   "cell_type": "code",
   "execution_count": 114,
   "id": "237e2115",
   "metadata": {},
   "outputs": [
    {
     "data": {
      "text/plain": [
       "(1.1, 2.1, 3.0, 4.0, 5.2, 6)"
      ]
     },
     "execution_count": 114,
     "metadata": {},
     "output_type": "execute_result"
    }
   ],
   "source": [
    "# tupla, son estructuras inmutables\n",
    "variable11"
   ]
  },
  {
   "cell_type": "code",
   "execution_count": null,
   "id": "48543e86",
   "metadata": {},
   "outputs": [],
   "source": []
  },
  {
   "cell_type": "code",
   "execution_count": 117,
   "id": "1438c421",
   "metadata": {},
   "outputs": [
    {
     "data": {
      "text/plain": [
       "64.3"
      ]
     },
     "execution_count": 117,
     "metadata": {},
     "output_type": "execute_result"
    }
   ],
   "source": [
    "sum(variable6) + sum(variable11)"
   ]
  },
  {
   "cell_type": "code",
   "execution_count": 122,
   "id": "37ce4bad",
   "metadata": {},
   "outputs": [
    {
     "data": {
      "text/plain": [
       "[1.1, 2.1, 3.0, 4.0, 5.2, 6, 2, 6.5, 10, 3, 1.1, 2.1, 3.0, 4.0, 5.2, 6]"
      ]
     },
     "execution_count": 122,
     "metadata": {},
     "output_type": "execute_result"
    }
   ],
   "source": [
    "variable6 + list(variable11)"
   ]
  },
  {
   "cell_type": "code",
   "execution_count": 120,
   "id": "5c3238ee",
   "metadata": {},
   "outputs": [
    {
     "data": {
      "text/plain": [
       "64.30000000000001"
      ]
     },
     "execution_count": 120,
     "metadata": {},
     "output_type": "execute_result"
    }
   ],
   "source": [
    "sum(variable6 + list(variable11))"
   ]
  },
  {
   "cell_type": "code",
   "execution_count": 123,
   "id": "372ed862",
   "metadata": {},
   "outputs": [
    {
     "data": {
      "text/plain": [
       "(1.1, 2.1, 3.0, 4.0, 5.2, 6, 2, 6.5, 10, 3, 1.1, 2.1, 3.0, 4.0, 5.2, 6)"
      ]
     },
     "execution_count": 123,
     "metadata": {},
     "output_type": "execute_result"
    }
   ],
   "source": [
    "tuple(variable6) + variable11"
   ]
  },
  {
   "cell_type": "code",
   "execution_count": 121,
   "id": "2cdc646b",
   "metadata": {},
   "outputs": [
    {
     "data": {
      "text/plain": [
       "64.30000000000001"
      ]
     },
     "execution_count": 121,
     "metadata": {},
     "output_type": "execute_result"
    }
   ],
   "source": [
    "sum(tuple(variable6) + variable11)"
   ]
  },
  {
   "cell_type": "code",
   "execution_count": null,
   "id": "088f2bdb",
   "metadata": {},
   "outputs": [],
   "source": []
  },
  {
   "cell_type": "code",
   "execution_count": 124,
   "id": "c58f3749",
   "metadata": {},
   "outputs": [],
   "source": [
    "from collections import Counter"
   ]
  },
  {
   "cell_type": "code",
   "execution_count": 126,
   "id": "4f9fcf88",
   "metadata": {},
   "outputs": [],
   "source": [
    "c = Counter(variable5)"
   ]
  },
  {
   "cell_type": "code",
   "execution_count": 127,
   "id": "06cb6d7d",
   "metadata": {},
   "outputs": [
    {
     "data": {
      "text/plain": [
       "Counter({'a': 32, 't': 22, 'g': 15, 'c': 17})"
      ]
     },
     "execution_count": 127,
     "metadata": {},
     "output_type": "execute_result"
    }
   ],
   "source": [
    "c"
   ]
  },
  {
   "cell_type": "code",
   "execution_count": 131,
   "id": "ada38f2d",
   "metadata": {},
   "outputs": [
    {
     "data": {
      "text/plain": [
       "collections.Counter"
      ]
     },
     "execution_count": 131,
     "metadata": {},
     "output_type": "execute_result"
    }
   ],
   "source": [
    "type(c)"
   ]
  },
  {
   "cell_type": "code",
   "execution_count": 130,
   "id": "1a49a1d3",
   "metadata": {},
   "outputs": [
    {
     "data": {
      "text/plain": [
       "37.2093023255814"
      ]
     },
     "execution_count": 130,
     "metadata": {},
     "output_type": "execute_result"
    }
   ],
   "source": [
    "((c['g'] + c['c']) / len(variable5)) * 100"
   ]
  },
  {
   "cell_type": "code",
   "execution_count": 132,
   "id": "46335f9a",
   "metadata": {},
   "outputs": [
    {
     "data": {
      "text/plain": [
       "Counter({'a': 32, 't': 22, 'g': 15, 'c': 17})"
      ]
     },
     "execution_count": 132,
     "metadata": {},
     "output_type": "execute_result"
    }
   ],
   "source": [
    "c"
   ]
  },
  {
   "cell_type": "code",
   "execution_count": 133,
   "id": "f20b8432",
   "metadata": {},
   "outputs": [
    {
     "data": {
      "text/plain": [
       "{'peptide1': 'MTTNEEFIRTQIF', 'peptide2': 'GTVFEITN', 'peptide3': 'RYNDLNPVG'}"
      ]
     },
     "execution_count": 133,
     "metadata": {},
     "output_type": "execute_result"
    }
   ],
   "source": [
    "variable3"
   ]
  },
  {
   "cell_type": "code",
   "execution_count": null,
   "id": "4e369647",
   "metadata": {},
   "outputs": [],
   "source": []
  },
  {
   "cell_type": "markdown",
   "id": "db0d8d9c",
   "metadata": {},
   "source": [
    "## Comparaciones\n",
    "|Operation|Meaning|\n",
    "|---|---|\n",
    "|`<`|strictly less than|\n",
    "|`<=`|less than or equal|\n",
    "|`>`|strictly greater than|\n",
    "|`>=`|greater than or equal|\n",
    "|`==`|equal|\n",
    "|`!=`|not equal|\n",
    "|`is`|object identity|\n",
    "|`is not`|negated object identity|\n",
    "\n",
    "#### Los resultados boleanos siempre devuelven `False` o `True`"
   ]
  },
  {
   "cell_type": "code",
   "execution_count": 137,
   "id": "7057c4f5",
   "metadata": {},
   "outputs": [
    {
     "data": {
      "text/plain": [
       "35.453454564"
      ]
     },
     "execution_count": 137,
     "metadata": {},
     "output_type": "execute_result"
    }
   ],
   "source": [
    "z"
   ]
  },
  {
   "cell_type": "code",
   "execution_count": 134,
   "id": "cacc35ce",
   "metadata": {},
   "outputs": [
    {
     "data": {
      "text/plain": [
       "10"
      ]
     },
     "execution_count": 134,
     "metadata": {},
     "output_type": "execute_result"
    }
   ],
   "source": [
    "x"
   ]
  },
  {
   "cell_type": "code",
   "execution_count": 135,
   "id": "513dc375",
   "metadata": {},
   "outputs": [
    {
     "data": {
      "text/plain": [
       "45"
      ]
     },
     "execution_count": 135,
     "metadata": {},
     "output_type": "execute_result"
    }
   ],
   "source": [
    "x1"
   ]
  },
  {
   "cell_type": "code",
   "execution_count": 136,
   "id": "bbf6260b",
   "metadata": {},
   "outputs": [
    {
     "data": {
      "text/plain": [
       "25.453454564"
      ]
     },
     "execution_count": 136,
     "metadata": {},
     "output_type": "execute_result"
    }
   ],
   "source": [
    "y"
   ]
  },
  {
   "cell_type": "code",
   "execution_count": 138,
   "id": "86f3c9e9",
   "metadata": {},
   "outputs": [
    {
     "data": {
      "text/plain": [
       "True"
      ]
     },
     "execution_count": 138,
     "metadata": {},
     "output_type": "execute_result"
    }
   ],
   "source": [
    "x < y"
   ]
  },
  {
   "cell_type": "code",
   "execution_count": 139,
   "id": "ff5f99f0",
   "metadata": {},
   "outputs": [
    {
     "data": {
      "text/plain": [
       "False"
      ]
     },
     "execution_count": 139,
     "metadata": {},
     "output_type": "execute_result"
    }
   ],
   "source": [
    "x > y"
   ]
  },
  {
   "cell_type": "code",
   "execution_count": 140,
   "id": "eb76fa43",
   "metadata": {},
   "outputs": [
    {
     "data": {
      "text/plain": [
       "False"
      ]
     },
     "execution_count": 140,
     "metadata": {},
     "output_type": "execute_result"
    }
   ],
   "source": [
    "z == x"
   ]
  },
  {
   "cell_type": "code",
   "execution_count": 141,
   "id": "a24a5d81",
   "metadata": {},
   "outputs": [
    {
     "data": {
      "text/plain": [
       "True"
      ]
     },
     "execution_count": 141,
     "metadata": {},
     "output_type": "execute_result"
    }
   ],
   "source": [
    "x == x"
   ]
  },
  {
   "cell_type": "code",
   "execution_count": null,
   "id": "38ea9b88",
   "metadata": {},
   "outputs": [],
   "source": []
  },
  {
   "cell_type": "code",
   "execution_count": 148,
   "id": "7f082a51",
   "metadata": {},
   "outputs": [
    {
     "name": "stdout",
     "output_type": "stream",
     "text": [
      "1 a\n",
      "2 t\n",
      "3 g\n",
      "4 a\n",
      "5 c\n",
      "6 c\n",
      "7 a\n",
      "8 c\n",
      "9 t\n",
      "10 a\n"
     ]
    }
   ],
   "source": [
    "for e, i in enumerate(variable5):\n",
    "    if (e+1) <= x:\n",
    "        print(e+1, i)"
   ]
  },
  {
   "cell_type": "code",
   "execution_count": 150,
   "id": "7a9401f8",
   "metadata": {
    "scrolled": true
   },
   "outputs": [
    {
     "name": "stdout",
     "output_type": "stream",
     "text": [
      "2 t\n",
      "9 t\n",
      "19 t\n",
      "20 t\n",
      "23 t\n",
      "24 t\n",
      "35 t\n",
      "37 t\n",
      "38 t\n",
      "42 t\n",
      "47 t\n",
      "48 t\n",
      "49 t\n",
      "50 t\n",
      "56 t\n",
      "63 t\n",
      "67 t\n",
      "72 t\n",
      "75 t\n",
      "76 t\n",
      "77 t\n",
      "86 t\n"
     ]
    }
   ],
   "source": [
    "for e, i in enumerate(variable5):\n",
    "    if i == 't':\n",
    "        print(e+1, i)"
   ]
  },
  {
   "cell_type": "code",
   "execution_count": 156,
   "id": "7ad234b2",
   "metadata": {},
   "outputs": [
    {
     "name": "stdout",
     "output_type": "stream",
     "text": [
      "3 g True True\n",
      "5 c True True\n",
      "6 c True True\n",
      "8 c True True\n",
      "12 c True True\n",
      "13 g True True\n",
      "15 g True True\n",
      "16 g True True\n",
      "21 c True True\n",
      "26 g True True\n",
      "27 g True True\n",
      "29 c True True\n",
      "31 c True True\n",
      "33 g True True\n",
      "39 c True True\n",
      "40 g True True\n",
      "41 g True True\n",
      "44 c True True\n",
      "46 g True True\n",
      "51 c True True\n",
      "52 g True True\n",
      "54 g True True\n",
      "57 c True True\n",
      "59 c True True\n",
      "65 g True True\n",
      "69 c True True\n",
      "73 g True True\n",
      "81 c True True\n",
      "82 c True True\n",
      "83 c True True\n",
      "84 c True True\n",
      "85 g True True\n"
     ]
    }
   ],
   "source": [
    "for e, i in enumerate(variable5):\n",
    "    if (i != 'a') and (i != 't'):\n",
    "        print(e+1, i, (i != 'a'), (i != 't'))"
   ]
  },
  {
   "cell_type": "code",
   "execution_count": null,
   "id": "d527d45e",
   "metadata": {},
   "outputs": [],
   "source": []
  }
 ],
 "metadata": {
  "kernelspec": {
   "display_name": "Python 3",
   "language": "python",
   "name": "python3"
  },
  "language_info": {
   "codemirror_mode": {
    "name": "ipython",
    "version": 3
   },
   "file_extension": ".py",
   "mimetype": "text/x-python",
   "name": "python",
   "nbconvert_exporter": "python",
   "pygments_lexer": "ipython3",
   "version": "3.6.7"
  }
 },
 "nbformat": 4,
 "nbformat_minor": 5
}
