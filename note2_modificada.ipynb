{
 "cells": [
  {
   "cell_type": "markdown",
   "id": "a01b7256",
   "metadata": {},
   "source": [
    "## Operadores\n",
    "\n",
    "### <font color = limegreen>Qué son, en qué casos los utilizamos</font> \n",
    "\n",
    "- Los operadores son símbolos matemáticos que llevan a cabo operaciones específicas entre operandos.  \n",
    "- Se usan cuando quieres realizar operaciones matemáticas o comparaciones\n",
    "\n",
    "\n",
    "## <font color = blue>Operadores aritméticos</font>\n",
    "Suma `+`  \n",
    "Resta `-`  \n",
    "Negación `-`  \n",
    "Multiplicación `*`  \n",
    "Exponente `**`  \n",
    "División `/`"
   ]
  },
  {
   "cell_type": "code",
   "execution_count": 1,
   "id": "e142dc31",
   "metadata": {},
   "outputs": [],
   "source": [
    "operando1 = 30"
   ]
  },
  {
   "cell_type": "code",
   "execution_count": 2,
   "id": "99787e92",
   "metadata": {},
   "outputs": [],
   "source": [
    "operando2 = 20"
   ]
  },
  {
   "cell_type": "code",
   "execution_count": 3,
   "id": "1696fa5c",
   "metadata": {},
   "outputs": [
    {
     "name": "stdout",
     "output_type": "stream",
     "text": [
      "30 + 20\n"
     ]
    }
   ],
   "source": [
    "print(operando1, '+', operando2)"
   ]
  },
  {
   "cell_type": "code",
   "execution_count": 6,
   "id": "d2337998",
   "metadata": {},
   "outputs": [
    {
     "name": "stdout",
     "output_type": "stream",
     "text": [
      "50\n"
     ]
    }
   ],
   "source": [
    "print(operando1 + operando2)"
   ]
  },
  {
   "cell_type": "code",
   "execution_count": 7,
   "id": "63c16b13",
   "metadata": {},
   "outputs": [
    {
     "data": {
      "text/plain": [
       "1.5"
      ]
     },
     "execution_count": 7,
     "metadata": {},
     "output_type": "execute_result"
    }
   ],
   "source": [
    "operando1 / operando2"
   ]
  },
  {
   "cell_type": "code",
   "execution_count": 8,
   "id": "5496d440",
   "metadata": {},
   "outputs": [
    {
     "data": {
      "text/plain": [
       "10"
      ]
     },
     "execution_count": 8,
     "metadata": {},
     "output_type": "execute_result"
    }
   ],
   "source": [
    "operando1 - operando2"
   ]
  },
  {
   "cell_type": "code",
   "execution_count": 9,
   "id": "20138f3f",
   "metadata": {},
   "outputs": [
    {
     "data": {
      "text/plain": [
       "600"
      ]
     },
     "execution_count": 9,
     "metadata": {},
     "output_type": "execute_result"
    }
   ],
   "source": [
    "operando1 * operando2"
   ]
  },
  {
   "cell_type": "code",
   "execution_count": 10,
   "id": "116238c0",
   "metadata": {},
   "outputs": [
    {
     "data": {
      "text/plain": [
       "348678440100000000000000000000"
      ]
     },
     "execution_count": 10,
     "metadata": {},
     "output_type": "execute_result"
    }
   ],
   "source": [
    "operando1 ** operando2"
   ]
  },
  {
   "cell_type": "code",
   "execution_count": null,
   "id": "990fd60b",
   "metadata": {},
   "outputs": [],
   "source": []
  },
  {
   "cell_type": "code",
   "execution_count": 11,
   "id": "16e82278",
   "metadata": {},
   "outputs": [],
   "source": [
    "# Operadores aritméticos que se usan con cadenas de caracteres\n",
    "# los de suma (+) y el de multiplicación (*)"
   ]
  },
  {
   "cell_type": "code",
   "execution_count": 12,
   "id": "a3309439",
   "metadata": {},
   "outputs": [
    {
     "data": {
      "text/plain": [
       "'ATCGCTGAAAACCTGCGTGTGT'"
      ]
     },
     "execution_count": 12,
     "metadata": {},
     "output_type": "execute_result"
    }
   ],
   "source": [
    "'ATCGCTG' + 'AAAACCTGCGTGTGT'"
   ]
  },
  {
   "cell_type": "code",
   "execution_count": 17,
   "id": "a752b5d2",
   "metadata": {},
   "outputs": [
    {
     "data": {
      "text/plain": [
       "'ATCGCTGATCGCTGATCGCTGATCGCTGATCGCTG'"
      ]
     },
     "execution_count": 17,
     "metadata": {},
     "output_type": "execute_result"
    }
   ],
   "source": [
    "# si multiplicas un string por un número se duplica n cantidad de veces\n",
    "'ATCGCTG' * 5"
   ]
  },
  {
   "cell_type": "code",
   "execution_count": null,
   "id": "9cd9e7ff",
   "metadata": {},
   "outputs": [],
   "source": []
  },
  {
   "cell_type": "code",
   "execution_count": null,
   "id": "23438db9",
   "metadata": {},
   "outputs": [],
   "source": []
  },
  {
   "cell_type": "markdown",
   "id": "8c328fa3",
   "metadata": {},
   "source": [
    "---\n",
    "## <font color = blue>Operadores relacionales y de asignación</font>\n",
    "Menor que `<`  \n",
    "Menor o igual que `<=`   \n",
    "Mayor que `>`  \n",
    "Mayor o igual que `>=`  \n",
    "Igual que `==`  \n",
    "No es igual `!=`   \n",
    "**Los resultados boleanos siempre devuelven `False` o `True`**   \n",
    "Asignación `=`  \n",
    "También están lo de asignación aumentada `+=` y `-=`, aplicada en iteraciones"
   ]
  },
  {
   "cell_type": "code",
   "execution_count": 18,
   "id": "40d9aa68",
   "metadata": {},
   "outputs": [
    {
     "data": {
      "text/plain": [
       "True"
      ]
     },
     "execution_count": 18,
     "metadata": {},
     "output_type": "execute_result"
    }
   ],
   "source": [
    "operando1 > operando2"
   ]
  },
  {
   "cell_type": "code",
   "execution_count": 19,
   "id": "f193fc1e",
   "metadata": {},
   "outputs": [
    {
     "data": {
      "text/plain": [
       "False"
      ]
     },
     "execution_count": 19,
     "metadata": {},
     "output_type": "execute_result"
    }
   ],
   "source": [
    "operando1 == operando2"
   ]
  },
  {
   "cell_type": "code",
   "execution_count": 24,
   "id": "3fdcadcf",
   "metadata": {},
   "outputs": [
    {
     "data": {
      "text/plain": [
       "20"
      ]
     },
     "execution_count": 24,
     "metadata": {},
     "output_type": "execute_result"
    }
   ],
   "source": [
    "operando2"
   ]
  },
  {
   "cell_type": "code",
   "execution_count": 31,
   "id": "856b0df4",
   "metadata": {},
   "outputs": [
    {
     "name": "stdout",
     "output_type": "stream",
     "text": [
      "1 1 20\n",
      "2 2 19\n",
      "3 3 18\n",
      "4 4 17\n",
      "5 5 16\n",
      "6 6 15\n",
      "7 7 14\n",
      "8 8 13\n",
      "9 9 12\n",
      "10 10 11\n",
      "11 11 10\n",
      "12 12 9\n",
      "13 13 8\n",
      "14 14 7\n",
      "15 15 6\n",
      "16 16 5\n",
      "17 17 4\n",
      "18 18 3\n",
      "19 19 2\n",
      "20 20 1\n"
     ]
    }
   ],
   "source": [
    "n = 1\n",
    "o = operando2\n",
    "for i in range(1, operando2+1):\n",
    "    print(n, i, o)\n",
    "    n += 1\n",
    "    o -= 1"
   ]
  },
  {
   "cell_type": "code",
   "execution_count": null,
   "id": "18ed7ae2",
   "metadata": {},
   "outputs": [],
   "source": []
  },
  {
   "cell_type": "code",
   "execution_count": 37,
   "id": "6f36d5e9",
   "metadata": {},
   "outputs": [
    {
     "name": "stdout",
     "output_type": "stream",
     "text": [
      "1\n",
      "2\n",
      "3\n",
      "4\n",
      "5\n"
     ]
    }
   ],
   "source": [
    "for i in range(1, 6):\n",
    "    print(i)"
   ]
  },
  {
   "cell_type": "code",
   "execution_count": null,
   "id": "17ea686c",
   "metadata": {},
   "outputs": [],
   "source": []
  },
  {
   "cell_type": "markdown",
   "id": "519de8a3",
   "metadata": {},
   "source": [
    "## <font color = blue>Operadores especiales</font>\n",
    "\n",
    "Si un elemento se encuentra dentro de otro **`in`**  \n",
    "Identidad de objeto **`is`**   \n",
    "Identidad de objeto negada **`is not`**   \n",
    "Devuelve verdadero sólo si se cumplen todas las condiciones: **`and`** (conjunción), se le conoce como **`multiplicación lógica`**       \n",
    "Devuelve verdadero si se cumple como mínimo una condición: **`or`** (disyunción), se le conoce como **`suma lógica`** \n",
    "\n",
    "<img src=\"https://raw.githubusercontent.com/Bioinformatica2020/Anexos/master/operadores_logicos.jpg\" width = 40%> <br>\n",
    "\n",
    "Los resultados boleanos siempre devuelven **`False`** o **`True`**"
   ]
  },
  {
   "cell_type": "code",
   "execution_count": null,
   "id": "ff07c586",
   "metadata": {},
   "outputs": [],
   "source": []
  },
  {
   "cell_type": "code",
   "execution_count": 38,
   "id": "d596cf59",
   "metadata": {},
   "outputs": [
    {
     "data": {
      "text/plain": [
       "True"
      ]
     },
     "execution_count": 38,
     "metadata": {},
     "output_type": "execute_result"
    }
   ],
   "source": [
    "3 in [1,2,3,4,5]"
   ]
  },
  {
   "cell_type": "code",
   "execution_count": 39,
   "id": "0febc8e3",
   "metadata": {},
   "outputs": [
    {
     "data": {
      "text/plain": [
       "False"
      ]
     },
     "execution_count": 39,
     "metadata": {},
     "output_type": "execute_result"
    }
   ],
   "source": [
    "33 in [1,2,3,4,5]"
   ]
  },
  {
   "cell_type": "code",
   "execution_count": 40,
   "id": "9d4b9690",
   "metadata": {},
   "outputs": [
    {
     "data": {
      "text/plain": [
       "False"
      ]
     },
     "execution_count": 40,
     "metadata": {},
     "output_type": "execute_result"
    }
   ],
   "source": [
    "5 is 6"
   ]
  },
  {
   "cell_type": "code",
   "execution_count": 41,
   "id": "96e824a5",
   "metadata": {},
   "outputs": [
    {
     "data": {
      "text/plain": [
       "True"
      ]
     },
     "execution_count": 41,
     "metadata": {},
     "output_type": "execute_result"
    }
   ],
   "source": [
    "5 is 5"
   ]
  },
  {
   "cell_type": "code",
   "execution_count": 42,
   "id": "97c3d491",
   "metadata": {},
   "outputs": [
    {
     "data": {
      "text/plain": [
       "True"
      ]
     },
     "execution_count": 42,
     "metadata": {},
     "output_type": "execute_result"
    }
   ],
   "source": [
    "5 == 5 "
   ]
  },
  {
   "cell_type": "code",
   "execution_count": 43,
   "id": "8ec24e21",
   "metadata": {},
   "outputs": [
    {
     "data": {
      "text/plain": [
       "True"
      ]
     },
     "execution_count": 43,
     "metadata": {},
     "output_type": "execute_result"
    }
   ],
   "source": [
    "5 is not 6"
   ]
  },
  {
   "cell_type": "code",
   "execution_count": 44,
   "id": "01e95a5a",
   "metadata": {},
   "outputs": [
    {
     "data": {
      "text/plain": [
       "False"
      ]
     },
     "execution_count": 44,
     "metadata": {},
     "output_type": "execute_result"
    }
   ],
   "source": [
    "5 is not 5"
   ]
  },
  {
   "cell_type": "code",
   "execution_count": 46,
   "id": "944758a8",
   "metadata": {},
   "outputs": [
    {
     "data": {
      "text/plain": [
       "True"
      ]
     },
     "execution_count": 46,
     "metadata": {},
     "output_type": "execute_result"
    }
   ],
   "source": [
    "5 != 6"
   ]
  },
  {
   "cell_type": "code",
   "execution_count": null,
   "id": "decf74a5",
   "metadata": {},
   "outputs": [],
   "source": []
  },
  {
   "cell_type": "code",
   "execution_count": 48,
   "id": "8200a9a0",
   "metadata": {},
   "outputs": [],
   "source": [
    "seq = 'atgaccactaacgaggtcgagatcacaaatagatacaatgatttaaaccccgttgggatgggggcatttgggttggt'"
   ]
  },
  {
   "cell_type": "code",
   "execution_count": 49,
   "id": "8e461ab0",
   "metadata": {},
   "outputs": [
    {
     "data": {
      "text/plain": [
       "'atgaccactaacgaggtcgagatcacaaatagatacaatgatttaaaccccgttgggatgggggcatttgggttggt'"
      ]
     },
     "execution_count": 49,
     "metadata": {},
     "output_type": "execute_result"
    }
   ],
   "source": [
    "seq"
   ]
  },
  {
   "cell_type": "code",
   "execution_count": 54,
   "id": "978bc85a",
   "metadata": {},
   "outputs": [
    {
     "data": {
      "text/plain": [
       "True"
      ]
     },
     "execution_count": 54,
     "metadata": {},
     "output_type": "execute_result"
    }
   ],
   "source": [
    "'cgagatc' in seq"
   ]
  },
  {
   "cell_type": "code",
   "execution_count": null,
   "id": "43a8b898",
   "metadata": {},
   "outputs": [],
   "source": []
  },
  {
   "cell_type": "code",
   "execution_count": null,
   "id": "ab8716ee",
   "metadata": {},
   "outputs": [],
   "source": []
  },
  {
   "cell_type": "markdown",
   "id": "0471c940",
   "metadata": {},
   "source": [
    "## <font color = red>Ejercicio:</font>\n",
    "1. Copia todo el argumento de la figura 1 en una celda\n",
    "2. Define el valor de las variables `a`, `b` y `c` de tal forma que al correr la celda el argumento devuelva `True`\n",
    "3. Haz un desglose de cada comparación `(a operador b)` e imprime el resultado, debe coincidir con la imagen\n",
    "\n",
    "## <font color = red>Ejercicio:</font>\n",
    "1. Copia todo el argumento de la figura 2 en una celda\n",
    "2. Inserta las variables y operadores faltantes de tal forma que al correr la celda el argumento devuelva `False`  \n",
    "3. Haz un desglose de cada comparación `(a operador b)` e imprime el resultado, debe coincidir con la imagen\n",
    "\n",
    "<img src=\"https://raw.githubusercontent.com/Bioinformatica2020/Anexos/master/ejercicios_operadores_logicos.jpg\" width = 60%> <br>"
   ]
  },
  {
   "cell_type": "code",
   "execution_count": 67,
   "id": "d346d0b5",
   "metadata": {},
   "outputs": [
    {
     "data": {
      "text/plain": [
       "True"
      ]
     },
     "execution_count": 67,
     "metadata": {},
     "output_type": "execute_result"
    }
   ],
   "source": [
    "a, b, c = 1, 1, 2\n",
    "((b < a) or (c > a)) and ((a == c) or (a >= b))"
   ]
  },
  {
   "cell_type": "code",
   "execution_count": 72,
   "id": "685a9ced",
   "metadata": {},
   "outputs": [
    {
     "data": {
      "text/plain": [
       "False"
      ]
     },
     "execution_count": 72,
     "metadata": {},
     "output_type": "execute_result"
    }
   ],
   "source": [
    "a, b, c = 2, 2, 1\n",
    "((a < b) or (c > a)) and ((a > c) or (b >= c))"
   ]
  },
  {
   "cell_type": "code",
   "execution_count": null,
   "id": "00facf4d",
   "metadata": {},
   "outputs": [],
   "source": []
  },
  {
   "cell_type": "code",
   "execution_count": null,
   "id": "b5496506",
   "metadata": {},
   "outputs": [],
   "source": []
  },
  {
   "cell_type": "markdown",
   "id": "1ac160b7",
   "metadata": {},
   "source": [
    "---\n",
    "# Estructura de datos\n",
    "* ### Listas\n",
    "* ### Tuplas\n",
    "* ### Conjuntos\n",
    "* ### Diccionarios\n",
    "* ### Arreglos <font color = orange>(esta estructura la veremos posteriormente)</font>"
   ]
  },
  {
   "cell_type": "code",
   "execution_count": null,
   "id": "0b08913d",
   "metadata": {},
   "outputs": [],
   "source": []
  },
  {
   "cell_type": "markdown",
   "id": "139e8ab8",
   "metadata": {},
   "source": [
    "## <font color = blue>Listas y tuplas</font>\n",
    "\n",
    "* #### Son de estructura similar\n",
    "* #### Las listas están delimitadas por corchetes `[]` y las tuplas por paréntesis `()`  \n",
    "* #### Las listas son dinámicas y las tuplas estáticas (inmutables)\n",
    "* #### Pueden contener: números, cadenas, funciones, listas, tuplas, arreglos, etc.\n",
    "* #### También pueden contener diferentes objetos.\n",
    "* #### Cada valor es un elemento.\n",
    "\n",
    "El índice de los elementos empieza desde el cero `0`"
   ]
  },
  {
   "cell_type": "code",
   "execution_count": null,
   "id": "2323abdb",
   "metadata": {},
   "outputs": [],
   "source": []
  },
  {
   "cell_type": "markdown",
   "id": "72da9772",
   "metadata": {},
   "source": [
    "## <font color = limegreen>Crear una lista</font>"
   ]
  },
  {
   "cell_type": "code",
   "execution_count": 73,
   "id": "e3317944",
   "metadata": {},
   "outputs": [
    {
     "data": {
      "text/plain": [
       "[]"
      ]
     },
     "execution_count": 73,
     "metadata": {},
     "output_type": "execute_result"
    }
   ],
   "source": [
    "# se crea un objeto vacío\n",
    "lista = list()\n",
    "lista"
   ]
  },
  {
   "cell_type": "code",
   "execution_count": 75,
   "id": "5fb8118b",
   "metadata": {},
   "outputs": [
    {
     "data": {
      "text/plain": [
       "[]"
      ]
     },
     "execution_count": 75,
     "metadata": {},
     "output_type": "execute_result"
    }
   ],
   "source": [
    "# se crea un objeto vacío\n",
    "lista = []\n",
    "lista"
   ]
  },
  {
   "cell_type": "code",
   "execution_count": 78,
   "id": "7a01fe03",
   "metadata": {},
   "outputs": [
    {
     "data": {
      "text/plain": [
       "['Ala', 'Arg', 'Cys', 'Gln', 'Gly', 'His', 'Pro', 'Ser', 'Val', 'Lys', 'Met']"
      ]
     },
     "execution_count": 78,
     "metadata": {},
     "output_type": "execute_result"
    }
   ],
   "source": [
    "aminoacidos = ['Ala','Arg','Cys','Gln','Gly','His','Pro','Ser','Val', 'Lys','Met']\n",
    "aminoacidos"
   ]
  },
  {
   "cell_type": "code",
   "execution_count": 79,
   "id": "60e18dff",
   "metadata": {},
   "outputs": [],
   "source": [
    "# agregar elementos a una lista\n",
    "aminoacidos.append('Phe')"
   ]
  },
  {
   "cell_type": "code",
   "execution_count": 81,
   "id": "6700cc74",
   "metadata": {},
   "outputs": [],
   "source": [
    "# insertar elementos en posiciones específicas\n",
    "aminoacidos.insert(1, 'WRT')"
   ]
  },
  {
   "cell_type": "code",
   "execution_count": 84,
   "id": "6818e81e",
   "metadata": {},
   "outputs": [
    {
     "name": "stdout",
     "output_type": "stream",
     "text": [
      "['Ala', 'WRT', 'Arg', 'Cys', 'Gln', 'Gly', 'His', 'Pro', 'Ser', 'Val', 'Lys', 'Met', 'Phe']\n"
     ]
    }
   ],
   "source": [
    "print(aminoacidos)"
   ]
  },
  {
   "cell_type": "code",
   "execution_count": 85,
   "id": "b50edd37",
   "metadata": {},
   "outputs": [],
   "source": [
    "aminoacidos.insert(1, [1, 2, 3, 4, 5])"
   ]
  },
  {
   "cell_type": "code",
   "execution_count": 87,
   "id": "0b7ae569",
   "metadata": {},
   "outputs": [
    {
     "name": "stdout",
     "output_type": "stream",
     "text": [
      "['Ala', [1, 2, 3, 4, 5], 'WRT', 'Arg', 'Cys', 'Gln', 'Gly', 'His', 'Pro', 'Ser', 'Val', 'Lys', 'Met', 'Phe']\n"
     ]
    }
   ],
   "source": [
    "print(aminoacidos)"
   ]
  },
  {
   "cell_type": "code",
   "execution_count": 88,
   "id": "06951f34",
   "metadata": {},
   "outputs": [],
   "source": [
    "# remover elementos de una lista\n",
    "aminoacidos.remove('WRT')"
   ]
  },
  {
   "cell_type": "code",
   "execution_count": 89,
   "id": "0719e7d9",
   "metadata": {},
   "outputs": [
    {
     "name": "stdout",
     "output_type": "stream",
     "text": [
      "['Ala', [1, 2, 3, 4, 5], 'Arg', 'Cys', 'Gln', 'Gly', 'His', 'Pro', 'Ser', 'Val', 'Lys', 'Met', 'Phe']\n"
     ]
    }
   ],
   "source": [
    "print(aminoacidos)"
   ]
  },
  {
   "cell_type": "code",
   "execution_count": 90,
   "id": "1018008f",
   "metadata": {},
   "outputs": [],
   "source": [
    "aminoacidos.remove([1, 2, 3, 4, 5])"
   ]
  },
  {
   "cell_type": "code",
   "execution_count": 91,
   "id": "492819eb",
   "metadata": {},
   "outputs": [
    {
     "name": "stdout",
     "output_type": "stream",
     "text": [
      "['Ala', 'Arg', 'Cys', 'Gln', 'Gly', 'His', 'Pro', 'Ser', 'Val', 'Lys', 'Met', 'Phe']\n"
     ]
    }
   ],
   "source": [
    "print(aminoacidos)"
   ]
  },
  {
   "cell_type": "code",
   "execution_count": 92,
   "id": "4b0dacb6",
   "metadata": {},
   "outputs": [
    {
     "data": {
      "text/plain": [
       "'His'"
      ]
     },
     "execution_count": 92,
     "metadata": {},
     "output_type": "execute_result"
    }
   ],
   "source": [
    "# remover un elemento de una posición específica en una lista\n",
    "aminoacidos.pop(5)"
   ]
  },
  {
   "cell_type": "code",
   "execution_count": 93,
   "id": "af0793e0",
   "metadata": {},
   "outputs": [
    {
     "name": "stdout",
     "output_type": "stream",
     "text": [
      "['Ala', 'Arg', 'Cys', 'Gln', 'Gly', 'Pro', 'Ser', 'Val', 'Lys', 'Met', 'Phe']\n"
     ]
    }
   ],
   "source": [
    "print(aminoacidos)"
   ]
  },
  {
   "cell_type": "code",
   "execution_count": 94,
   "id": "6dcec08a",
   "metadata": {},
   "outputs": [],
   "source": [
    "# Quita todos los elementos de la lista\n",
    "aminoacidos.clear()"
   ]
  },
  {
   "cell_type": "code",
   "execution_count": 95,
   "id": "79d69d07",
   "metadata": {},
   "outputs": [
    {
     "name": "stdout",
     "output_type": "stream",
     "text": [
      "[]\n"
     ]
    }
   ],
   "source": [
    "print(aminoacidos)"
   ]
  },
  {
   "cell_type": "code",
   "execution_count": null,
   "id": "99f60475",
   "metadata": {},
   "outputs": [],
   "source": [
    "aminoacidos = []"
   ]
  },
  {
   "cell_type": "code",
   "execution_count": 125,
   "id": "2d0ab4a5",
   "metadata": {},
   "outputs": [
    {
     "data": {
      "text/plain": [
       "['Ala', 'Arg', 'Cys', 'Gln', 'Gly', 'His', 'Pro', 'Ser', 'Val']"
      ]
     },
     "execution_count": 125,
     "metadata": {},
     "output_type": "execute_result"
    }
   ],
   "source": [
    "# volverla a definir\n",
    "aminoacidos = ['Ala','Arg','Cys','Gln','Gly','His','Pro','Ser','Val']\n",
    "aminoacidos"
   ]
  },
  {
   "cell_type": "code",
   "execution_count": null,
   "id": "fc7f1fc8",
   "metadata": {},
   "outputs": [],
   "source": []
  },
  {
   "cell_type": "code",
   "execution_count": 128,
   "id": "066e463e",
   "metadata": {},
   "outputs": [],
   "source": [
    "aminoacidos = list(reversed(aminoacidos))"
   ]
  },
  {
   "cell_type": "code",
   "execution_count": 129,
   "id": "900222c6",
   "metadata": {},
   "outputs": [
    {
     "data": {
      "text/plain": [
       "['Val', 'Ser', 'Pro', 'His', 'Gly', 'Gln', 'Cys', 'Arg', 'Ala']"
      ]
     },
     "execution_count": 129,
     "metadata": {},
     "output_type": "execute_result"
    }
   ],
   "source": [
    "aminoacidos"
   ]
  },
  {
   "cell_type": "code",
   "execution_count": null,
   "id": "375ad658",
   "metadata": {},
   "outputs": [],
   "source": []
  },
  {
   "cell_type": "code",
   "execution_count": 132,
   "id": "0eec2ca4",
   "metadata": {},
   "outputs": [
    {
     "data": {
      "text/plain": [
       "'atgaccactaacgaggtcgagatcacaaatagatacaatgatttaaaccccgttgggatgggggcatttgggttggt'"
      ]
     },
     "execution_count": 132,
     "metadata": {},
     "output_type": "execute_result"
    }
   ],
   "source": [
    "seq"
   ]
  },
  {
   "cell_type": "code",
   "execution_count": 133,
   "id": "20bad52a",
   "metadata": {},
   "outputs": [
    {
     "data": {
      "text/plain": [
       "'tggttgggtttacgggggtagggttgccccaaatttagtaacatagataaacactagagctggagcaatcaccagta'"
      ]
     },
     "execution_count": 133,
     "metadata": {},
     "output_type": "execute_result"
    }
   ],
   "source": [
    "''.join(list(reversed(seq)))"
   ]
  },
  {
   "cell_type": "code",
   "execution_count": null,
   "id": "84901fc3",
   "metadata": {},
   "outputs": [],
   "source": []
  },
  {
   "cell_type": "code",
   "execution_count": 134,
   "id": "6ac57b04",
   "metadata": {},
   "outputs": [
    {
     "data": {
      "text/plain": [
       "23"
      ]
     },
     "execution_count": 134,
     "metadata": {},
     "output_type": "execute_result"
    }
   ],
   "source": [
    "seq.count('a')"
   ]
  },
  {
   "cell_type": "code",
   "execution_count": 135,
   "id": "eedc531a",
   "metadata": {},
   "outputs": [
    {
     "data": {
      "text/plain": [
       "1"
      ]
     },
     "execution_count": 135,
     "metadata": {},
     "output_type": "execute_result"
    }
   ],
   "source": [
    "aminoacidos.count('His')"
   ]
  },
  {
   "cell_type": "code",
   "execution_count": 136,
   "id": "b69096cd",
   "metadata": {},
   "outputs": [
    {
     "data": {
      "text/plain": [
       "9"
      ]
     },
     "execution_count": 136,
     "metadata": {},
     "output_type": "execute_result"
    }
   ],
   "source": [
    "len(aminoacidos)"
   ]
  },
  {
   "cell_type": "code",
   "execution_count": 137,
   "id": "a78f5a09",
   "metadata": {},
   "outputs": [
    {
     "data": {
      "text/plain": [
       "[]"
      ]
     },
     "execution_count": 137,
     "metadata": {},
     "output_type": "execute_result"
    }
   ],
   "source": [
    "l = []\n",
    "l"
   ]
  },
  {
   "cell_type": "code",
   "execution_count": 138,
   "id": "9d75ba86",
   "metadata": {},
   "outputs": [],
   "source": [
    "for i in seq:\n",
    "    l.append(i)"
   ]
  },
  {
   "cell_type": "code",
   "execution_count": 140,
   "id": "3564a05b",
   "metadata": {},
   "outputs": [
    {
     "name": "stdout",
     "output_type": "stream",
     "text": [
      "['a', 't', 'g', 'a', 'c', 'c', 'a', 'c', 't', 'a', 'a', 'c', 'g', 'a', 'g', 'g', 't', 'c', 'g', 'a', 'g', 'a', 't', 'c', 'a', 'c', 'a', 'a', 'a', 't', 'a', 'g', 'a', 't', 'a', 'c', 'a', 'a', 't', 'g', 'a', 't', 't', 't', 'a', 'a', 'a', 'c', 'c', 'c', 'c', 'g', 't', 't', 'g', 'g', 'g', 'a', 't', 'g', 'g', 'g', 'g', 'g', 'c', 'a', 't', 't', 't', 'g', 'g', 'g', 't', 't', 'g', 'g', 't']\n"
     ]
    }
   ],
   "source": [
    "print(l)"
   ]
  },
  {
   "cell_type": "code",
   "execution_count": 141,
   "id": "0ba95075",
   "metadata": {},
   "outputs": [
    {
     "data": {
      "text/plain": [
       "23"
      ]
     },
     "execution_count": 141,
     "metadata": {},
     "output_type": "execute_result"
    }
   ],
   "source": [
    "l.count('a')"
   ]
  },
  {
   "cell_type": "code",
   "execution_count": 142,
   "id": "c6ead203",
   "metadata": {},
   "outputs": [
    {
     "data": {
      "text/plain": [
       "23"
      ]
     },
     "execution_count": 142,
     "metadata": {},
     "output_type": "execute_result"
    }
   ],
   "source": [
    "seq.count('a')"
   ]
  },
  {
   "cell_type": "markdown",
   "id": "4b68aebf",
   "metadata": {},
   "source": [
    "### <font color = limegreen>Crear una tupla</font>"
   ]
  },
  {
   "cell_type": "code",
   "execution_count": 154,
   "id": "0e58ac59",
   "metadata": {},
   "outputs": [],
   "source": [
    "tupla = (1, 'a', 3, 'z', 5, [1,2,3,4])"
   ]
  },
  {
   "cell_type": "code",
   "execution_count": 155,
   "id": "4578e906",
   "metadata": {},
   "outputs": [
    {
     "data": {
      "text/plain": [
       "(1, 'a', 3, 'z', 5, [1, 2, 3, 4])"
      ]
     },
     "execution_count": 155,
     "metadata": {},
     "output_type": "execute_result"
    }
   ],
   "source": [
    "tupla"
   ]
  },
  {
   "cell_type": "code",
   "execution_count": 159,
   "id": "00585c3a",
   "metadata": {},
   "outputs": [
    {
     "data": {
      "text/plain": [
       "(1, 'a', 3, 'z', 5, [1, 2, 3, 4])"
      ]
     },
     "execution_count": 159,
     "metadata": {},
     "output_type": "execute_result"
    }
   ],
   "source": [
    "tupla"
   ]
  },
  {
   "cell_type": "code",
   "execution_count": null,
   "id": "7b6bbcbf",
   "metadata": {},
   "outputs": [],
   "source": []
  },
  {
   "cell_type": "markdown",
   "id": "e537277d",
   "metadata": {},
   "source": [
    "## <font color = blue>Diccionarios</font>\n",
    "\n",
    "* #### Es una estructura de datos que permite almacenar cualquier tipo de objeto\n",
    "* #### Permite identificar cada elemento por una clave\n",
    "* #### Un diccionario está delimitado por llaves {}\n",
    "* #### Las parejas clave-valor se separan por comas `,`\n",
    "* #### La clave y el valor se separan por dos puntos `:`"
   ]
  },
  {
   "cell_type": "code",
   "execution_count": 166,
   "id": "1058408d",
   "metadata": {},
   "outputs": [],
   "source": [
    "nuc = {'a': 't', 'c': 'g', 'g': 'c', 't': 'a'}"
   ]
  },
  {
   "cell_type": "code",
   "execution_count": 167,
   "id": "3cd7cf70",
   "metadata": {},
   "outputs": [
    {
     "data": {
      "text/plain": [
       "'atgaccactaacgaggtcgagatcacaaatagatacaatgatttaaaccccgttgggatgggggcatttgggttggt'"
      ]
     },
     "execution_count": 167,
     "metadata": {},
     "output_type": "execute_result"
    }
   ],
   "source": [
    "seq"
   ]
  },
  {
   "cell_type": "code",
   "execution_count": 169,
   "id": "8f3ee9f1",
   "metadata": {},
   "outputs": [
    {
     "name": "stdout",
     "output_type": "stream",
     "text": [
      "tactggtgattgctccagctctagtgtttatctatgttactaaatttggggcaaccctacccccgtaaacccaacca\n"
     ]
    }
   ],
   "source": [
    "print(''.join([nuc[i] for i in seq]))"
   ]
  },
  {
   "cell_type": "code",
   "execution_count": null,
   "id": "264056e7",
   "metadata": {},
   "outputs": [],
   "source": []
  },
  {
   "cell_type": "code",
   "execution_count": 174,
   "id": "8ce040f1",
   "metadata": {},
   "outputs": [],
   "source": [
    "d = {'nombre': ['Luis', 'Abigail', 'Luz', 'Juan'], 'altura': [1.7, 1.5, 1.6, 1.8],\n",
    "     'secuencias': ['fdfgdhfdg', 'fdhghjkhjkjfg', 'rertjgfdhfdgfdgfh']}"
   ]
  },
  {
   "cell_type": "code",
   "execution_count": 175,
   "id": "0459633c",
   "metadata": {},
   "outputs": [
    {
     "data": {
      "text/plain": [
       "{'nombre': ['Luis', 'Abigail', 'Luz', 'Juan'],\n",
       " 'altura': [1.7, 1.5, 1.6, 1.8],\n",
       " 'secuencias': ['fdfgdhfdg', 'fdhghjkhjkjfg', 'rertjgfdhfdgfdgfh']}"
      ]
     },
     "execution_count": 175,
     "metadata": {},
     "output_type": "execute_result"
    }
   ],
   "source": [
    "d"
   ]
  },
  {
   "cell_type": "code",
   "execution_count": 176,
   "id": "adde3a56",
   "metadata": {},
   "outputs": [
    {
     "data": {
      "text/plain": [
       "['Luis', 'Abigail', 'Luz', 'Juan']"
      ]
     },
     "execution_count": 176,
     "metadata": {},
     "output_type": "execute_result"
    }
   ],
   "source": [
    "d['nombre']"
   ]
  },
  {
   "cell_type": "code",
   "execution_count": 177,
   "id": "df8255a0",
   "metadata": {},
   "outputs": [
    {
     "data": {
      "text/plain": [
       "[1.7, 1.5, 1.6, 1.8]"
      ]
     },
     "execution_count": 177,
     "metadata": {},
     "output_type": "execute_result"
    }
   ],
   "source": [
    "d['altura']"
   ]
  },
  {
   "cell_type": "code",
   "execution_count": 178,
   "id": "cb4b47bf",
   "metadata": {},
   "outputs": [
    {
     "data": {
      "text/plain": [
       "['fdfgdhfdg', 'fdhghjkhjkjfg', 'rertjgfdhfdgfdgfh']"
      ]
     },
     "execution_count": 178,
     "metadata": {},
     "output_type": "execute_result"
    }
   ],
   "source": [
    "d['secuencias']"
   ]
  },
  {
   "cell_type": "code",
   "execution_count": null,
   "id": "0c9779ba",
   "metadata": {},
   "outputs": [],
   "source": []
  }
 ],
 "metadata": {
  "kernelspec": {
   "display_name": "Python 3",
   "language": "python",
   "name": "python3"
  },
  "language_info": {
   "codemirror_mode": {
    "name": "ipython",
    "version": 3
   },
   "file_extension": ".py",
   "mimetype": "text/x-python",
   "name": "python",
   "nbconvert_exporter": "python",
   "pygments_lexer": "ipython3",
   "version": "3.6.7"
  }
 },
 "nbformat": 4,
 "nbformat_minor": 5
}
